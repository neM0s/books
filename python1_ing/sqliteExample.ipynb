{
 "cells": [
  {
   "cell_type": "code",
   "execution_count": 1,
   "metadata": {},
   "outputs": [
    {
     "name": "stdout",
     "output_type": "stream",
     "text": [
      "************************* miesiace z litera r: *************************\n",
      "marzec:31\n",
      "czerwiec:30\n",
      "sierpien:31\n",
      "wrzesien:30\n",
      "pazdziernik:31\n",
      "grudzien:31\n",
      "************************* miesiace bez litery r: *************************\n",
      "styczen:31\n",
      "luty:28\n",
      "kwiecien:30\n",
      "maj:31\n",
      "lipiec:31\n",
      "listopad:30\n"
     ]
    }
   ],
   "source": [
    "import sqlite3\n",
    "import re\n",
    "\n",
    "\n",
    "def regexp(expr, item):\n",
    "    \"\"\"pomocnicza funkcja regexp dla sqlite3\"\"\"\n",
    "    reg = re.compile(expr)\n",
    "    return reg.search(item) is not None\n",
    "\n",
    "\t\n",
    "if __name__ == '__main__':\n",
    "    conn = sqlite3.connect(':memory:')\n",
    "    conn.create_function(\"REGEXP\", 2, regexp)\n",
    "    \n",
    "    miesiace = [('styczen',31),\n",
    "\t\t('luty',28),\n",
    "\t\t('marzec',31),\n",
    "\t\t('kwiecien',30),\n",
    "\t\t('maj',31),\n",
    "\t\t('czerwiec',30),\n",
    "\t\t('lipiec',31),\n",
    "\t\t('sierpien',31),\n",
    "\t\t('wrzesien',30),\n",
    "\t\t('pazdziernik',31),\n",
    "\t\t('listopad',30),\n",
    "\t\t('grudzien',31)]\n",
    "    \n",
    "    conn.execute('CREATE TABLE miesiace (miesiac,dni)')\n",
    "    conn.executemany('INSERT INTO miesiace VALUES(?,?)',miesiace)\n",
    "    conn.commit()\n",
    "    miesiace_z_e = conn.execute('SELECT * FROM miesiace WHERE miesiac REGEXP \"(?i)r\"').fetchall()\n",
    "    miesiace_bez_e = conn.execute('SELECT * FROM miesiace WHERE NOT miesiac REGEXP \"(?i)r\"').fetchall()\n",
    "    print('*'*25, 'miesiace z litera r:','*'*25)\n",
    "    print('\\n'.join(['%s:%i'%(krotka) for krotka in miesiace_z_e]))\n",
    "    print('*'*25, 'miesiace bez litery r:','*'*25)\n",
    "    print('\\n'.join(['%s:%i'%(krotka) for krotka in miesiace_bez_e]))\n",
    "    \n"
   ]
  },
  {
   "cell_type": "code",
   "execution_count": 4,
   "metadata": {},
   "outputs": [],
   "source": [
    "lista = conn.execute('select * from miesiace').fetchall()"
   ]
  },
  {
   "cell_type": "code",
   "execution_count": 6,
   "metadata": {},
   "outputs": [
    {
     "data": {
      "text/plain": [
       "tuple"
      ]
     },
     "execution_count": 6,
     "metadata": {},
     "output_type": "execute_result"
    }
   ],
   "source": [
    "type(lista[0])"
   ]
  },
  {
   "cell_type": "code",
   "execution_count": null,
   "metadata": {
    "collapsed": true
   },
   "outputs": [],
   "source": []
  }
 ],
 "metadata": {
  "kernelspec": {
   "display_name": "Python 3",
   "language": "python",
   "name": "python3"
  },
  "language_info": {
   "codemirror_mode": {
    "name": "ipython",
    "version": 3
   },
   "file_extension": ".py",
   "mimetype": "text/x-python",
   "name": "python",
   "nbconvert_exporter": "python",
   "pygments_lexer": "ipython3",
   "version": "3.6.2"
  }
 },
 "nbformat": 4,
 "nbformat_minor": 2
}
