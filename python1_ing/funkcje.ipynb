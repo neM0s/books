{
 "cells": [
  {
   "cell_type": "code",
   "execution_count": 10,
   "metadata": {
    "collapsed": true
   },
   "outputs": [],
   "source": [
    "# definicja funkcji\n",
    "def greeter(who):\n",
    "    print(\"hello\", who) #nie moze zawierac slowa kluczowego yield, np\n",
    "    #return who #return jest opcjonalne\n",
    "#NIE FUNKCJA\n",
    "def greeter_2(who):\n",
    "    print(\"hello\", who)\n",
    "    yield 1"
   ]
  },
  {
   "cell_type": "code",
   "execution_count": 11,
   "metadata": {},
   "outputs": [
    {
     "data": {
      "text/plain": [
       "(function, function)"
      ]
     },
     "execution_count": 11,
     "metadata": {},
     "output_type": "execute_result"
    }
   ],
   "source": [
    "type(greeter),type( greeter_2)"
   ]
  },
  {
   "cell_type": "code",
   "execution_count": 12,
   "metadata": {},
   "outputs": [
    {
     "name": "stdout",
     "output_type": "stream",
     "text": [
      "hello 1\n"
     ]
    }
   ],
   "source": [
    "z = greeter(1)"
   ]
  },
  {
   "cell_type": "code",
   "execution_count": 13,
   "metadata": {},
   "outputs": [
    {
     "name": "stdout",
     "output_type": "stream",
     "text": [
      "None\n"
     ]
    }
   ],
   "source": [
    "print(z)"
   ]
  },
  {
   "cell_type": "code",
   "execution_count": 14,
   "metadata": {
    "collapsed": true
   },
   "outputs": [],
   "source": [
    "def suma(x,y): \n",
    "    return x+y"
   ]
  },
  {
   "cell_type": "code",
   "execution_count": 15,
   "metadata": {},
   "outputs": [
    {
     "name": "stdout",
     "output_type": "stream",
     "text": [
      "3\n"
     ]
    }
   ],
   "source": [
    "print(suma(1,2))"
   ]
  },
  {
   "cell_type": "code",
   "execution_count": 16,
   "metadata": {},
   "outputs": [
    {
     "ename": "TypeError",
     "evalue": "suma() missing 1 required positional argument: 'y'",
     "output_type": "error",
     "traceback": [
      "\u001b[1;31m---------------------------------------------------------------------------\u001b[0m",
      "\u001b[1;31mTypeError\u001b[0m                                 Traceback (most recent call last)",
      "\u001b[1;32m<ipython-input-16-b456a50fc8fc>\u001b[0m in \u001b[0;36m<module>\u001b[1;34m()\u001b[0m\n\u001b[1;32m----> 1\u001b[1;33m \u001b[0mprint\u001b[0m\u001b[1;33m(\u001b[0m\u001b[0msuma\u001b[0m\u001b[1;33m(\u001b[0m\u001b[1;36m1\u001b[0m\u001b[1;33m)\u001b[0m\u001b[1;33m)\u001b[0m\u001b[1;33m\u001b[0m\u001b[0m\n\u001b[0m",
      "\u001b[1;31mTypeError\u001b[0m: suma() missing 1 required positional argument: 'y'"
     ]
    }
   ],
   "source": [
    "print(suma(1))"
   ]
  },
  {
   "cell_type": "code",
   "execution_count": 24,
   "metadata": {
    "collapsed": true
   },
   "outputs": [],
   "source": [
    "def dowolna_suma(*x): #starred argument, zwyczajowo *args\n",
    "    #print(x)\n",
    "    z = 0\n",
    "    for liczba in x:\n",
    "        z += liczba\n",
    "    return z"
   ]
  },
  {
   "cell_type": "code",
   "execution_count": 25,
   "metadata": {},
   "outputs": [
    {
     "name": "stdout",
     "output_type": "stream",
     "text": [
      "36\n"
     ]
    }
   ],
   "source": [
    "print(dowolna_suma(1,2,3,4,5,6,7,8))"
   ]
  },
  {
   "cell_type": "code",
   "execution_count": 27,
   "metadata": {},
   "outputs": [
    {
     "ename": "TypeError",
     "evalue": "unsupported operand type(s) for +=: 'int' and 'str'",
     "output_type": "error",
     "traceback": [
      "\u001b[1;31m---------------------------------------------------------------------------\u001b[0m",
      "\u001b[1;31mTypeError\u001b[0m                                 Traceback (most recent call last)",
      "\u001b[1;32m<ipython-input-27-67677cd89d35>\u001b[0m in \u001b[0;36m<module>\u001b[1;34m()\u001b[0m\n\u001b[1;32m----> 1\u001b[1;33m \u001b[0mprint\u001b[0m\u001b[1;33m(\u001b[0m\u001b[0mdowolna_suma\u001b[0m\u001b[1;33m(\u001b[0m\u001b[1;34m\"a\"\u001b[0m\u001b[1;33m)\u001b[0m\u001b[1;33m)\u001b[0m\u001b[1;33m\u001b[0m\u001b[0m\n\u001b[0m",
      "\u001b[1;32m<ipython-input-24-1f4a4b9eb634>\u001b[0m in \u001b[0;36mdowolna_suma\u001b[1;34m(*x)\u001b[0m\n\u001b[0;32m      3\u001b[0m     \u001b[0mz\u001b[0m \u001b[1;33m=\u001b[0m \u001b[1;36m0\u001b[0m\u001b[1;33m\u001b[0m\u001b[0m\n\u001b[0;32m      4\u001b[0m     \u001b[1;32mfor\u001b[0m \u001b[0mliczba\u001b[0m \u001b[1;32min\u001b[0m \u001b[0mx\u001b[0m\u001b[1;33m:\u001b[0m\u001b[1;33m\u001b[0m\u001b[0m\n\u001b[1;32m----> 5\u001b[1;33m         \u001b[0mz\u001b[0m \u001b[1;33m+=\u001b[0m \u001b[0mliczba\u001b[0m\u001b[1;33m\u001b[0m\u001b[0m\n\u001b[0m\u001b[0;32m      6\u001b[0m     \u001b[1;32mreturn\u001b[0m \u001b[0mz\u001b[0m\u001b[1;33m\u001b[0m\u001b[0m\n",
      "\u001b[1;31mTypeError\u001b[0m: unsupported operand type(s) for +=: 'int' and 'str'"
     ]
    }
   ],
   "source": [
    "print(dowolna_suma(\"a\"))"
   ]
  },
  {
   "cell_type": "code",
   "execution_count": 28,
   "metadata": {},
   "outputs": [
    {
     "name": "stdout",
     "output_type": "stream",
     "text": [
      "ab\n"
     ]
    }
   ],
   "source": [
    "print(suma(\"a\",\"b\"))"
   ]
  },
  {
   "cell_type": "code",
   "execution_count": 123,
   "metadata": {
    "collapsed": true
   },
   "outputs": [],
   "source": [
    "def potega(co, wykladnik=2):\n",
    "    if wykladnik == 2:\n",
    "        return co*co # wyrazenie return moze pojawic sie wiele razy\n",
    "    return co**wykladnik"
   ]
  },
  {
   "cell_type": "code",
   "execution_count": 30,
   "metadata": {},
   "outputs": [
    {
     "data": {
      "text/plain": [
       "4"
      ]
     },
     "execution_count": 30,
     "metadata": {},
     "output_type": "execute_result"
    }
   ],
   "source": [
    "potega(2)"
   ]
  },
  {
   "cell_type": "code",
   "execution_count": 31,
   "metadata": {},
   "outputs": [
    {
     "data": {
      "text/plain": [
       "8"
      ]
     },
     "execution_count": 31,
     "metadata": {},
     "output_type": "execute_result"
    }
   ],
   "source": [
    "potega(2,3)"
   ]
  },
  {
   "cell_type": "code",
   "execution_count": 32,
   "metadata": {},
   "outputs": [
    {
     "data": {
      "text/plain": [
       "8"
      ]
     },
     "execution_count": 32,
     "metadata": {},
     "output_type": "execute_result"
    }
   ],
   "source": [
    "potega(co=2, wykladnik=3)"
   ]
  },
  {
   "cell_type": "code",
   "execution_count": 37,
   "metadata": {},
   "outputs": [
    {
     "data": {
      "text/plain": [
       "1"
      ]
     },
     "execution_count": 37,
     "metadata": {},
     "output_type": "execute_result"
    }
   ],
   "source": [
    "potega(1, wykladnik=3)"
   ]
  },
  {
   "cell_type": "code",
   "execution_count": 41,
   "metadata": {
    "collapsed": true
   },
   "outputs": [],
   "source": [
    "def opakowanie(who, **kwargs): #keyword args\n",
    "    print(kwargs)\n",
    "    print(\"hello\",who, **kwargs) #rozpakowywanie slownika przy wywolaniu funkcji"
   ]
  },
  {
   "cell_type": "code",
   "execution_count": 45,
   "metadata": {},
   "outputs": [
    {
     "name": "stdout",
     "output_type": "stream",
     "text": [
      "{'sep': ';'}\n",
      "hello;maciej\n"
     ]
    }
   ],
   "source": [
    "opakowanie(\"maciej\", sep=\";\")"
   ]
  },
  {
   "cell_type": "code",
   "execution_count": 46,
   "metadata": {
    "collapsed": true
   },
   "outputs": [],
   "source": [
    "def potega(co, wykladnik=2):\n",
    "    return co**wykladnik, wykladnik"
   ]
  },
  {
   "cell_type": "code",
   "execution_count": 48,
   "metadata": {},
   "outputs": [],
   "source": [
    "w, s = potega(3)"
   ]
  },
  {
   "cell_type": "code",
   "execution_count": 49,
   "metadata": {},
   "outputs": [
    {
     "data": {
      "text/plain": [
       "9"
      ]
     },
     "execution_count": 49,
     "metadata": {},
     "output_type": "execute_result"
    }
   ],
   "source": [
    "w"
   ]
  },
  {
   "cell_type": "code",
   "execution_count": 78,
   "metadata": {
    "collapsed": true
   },
   "outputs": [],
   "source": [
    "def suma_sekwencji(sekwencja):\n",
    "    sekwencja.append(1)\n",
    "    return sum(sekwencja)"
   ]
  },
  {
   "cell_type": "code",
   "execution_count": 79,
   "metadata": {
    "collapsed": true
   },
   "outputs": [],
   "source": [
    "slista = [1,2,3,4]"
   ]
  },
  {
   "cell_type": "code",
   "execution_count": 80,
   "metadata": {},
   "outputs": [
    {
     "data": {
      "text/plain": [
       "11"
      ]
     },
     "execution_count": 80,
     "metadata": {},
     "output_type": "execute_result"
    }
   ],
   "source": [
    "suma_sekwencji(slista)"
   ]
  },
  {
   "cell_type": "code",
   "execution_count": 81,
   "metadata": {},
   "outputs": [
    {
     "data": {
      "text/plain": [
       "[1, 2, 3, 4, 1]"
      ]
     },
     "execution_count": 81,
     "metadata": {},
     "output_type": "execute_result"
    }
   ],
   "source": [
    "slista"
   ]
  },
  {
   "cell_type": "code",
   "execution_count": null,
   "metadata": {
    "collapsed": true
   },
   "outputs": [],
   "source": []
  },
  {
   "cell_type": "code",
   "execution_count": 82,
   "metadata": {
    "collapsed": true
   },
   "outputs": [],
   "source": [
    "zb1 = set([1,23,3])"
   ]
  },
  {
   "cell_type": "code",
   "execution_count": 83,
   "metadata": {
    "collapsed": true
   },
   "outputs": [],
   "source": [
    "zb2 = set((2,3,4))"
   ]
  },
  {
   "cell_type": "code",
   "execution_count": 86,
   "metadata": {
    "collapsed": true
   },
   "outputs": [],
   "source": [
    "zb2.difference_update(zb1) #przyklad funkcji (metody) modyfikujacej obiekt ,,w miejscu''"
   ]
  },
  {
   "cell_type": "code",
   "execution_count": 87,
   "metadata": {},
   "outputs": [
    {
     "data": {
      "text/plain": [
       "{2, 4}"
      ]
     },
     "execution_count": 87,
     "metadata": {},
     "output_type": "execute_result"
    }
   ],
   "source": [
    "zb2"
   ]
  },
  {
   "cell_type": "code",
   "execution_count": 89,
   "metadata": {},
   "outputs": [
    {
     "data": {
      "text/plain": [
       "({'In': ['',\n",
       "   '# definicja funkcji\\ndef greeter(who):\\n    print(\"hello\", who)',\n",
       "   '# definicja funkcji\\ndef greeter(who):\\n    print(\"hello\", who) #nie moze zawierac slowa kluczowego yield, np\\n    \\n#NIE FUNKCJA\\ndef greeter_2(who):\\n    print(\"hello\", who)\\n    yield',\n",
       "   'type(greeter, greeter_2)',\n",
       "   'type(greeter),type( greeter_2)',\n",
       "   '# definicja funkcji\\ndef greeter(who):\\n    print(\"hello\", who) #nie moze zawierac slowa kluczowego yield, np\\n    \\n#NIE FUNKCJA\\ndef greeter_2(who):\\n    print(\"hello\", who)\\n    yield 1',\n",
       "   'type(greeter),type( greeter_2)',\n",
       "   '# definicja funkcji\\ndef greeter(who):\\n    print(\"hello\", who) #nie moze zawierac slowa kluczowego yield, np\\n    return who\\n#NIE FUNKCJA\\ndef greeter_2(who):\\n    print(\"hello\", who)\\n    yield 1',\n",
       "   'z = greeter(1)',\n",
       "   'print(z)',\n",
       "   '# definicja funkcji\\ndef greeter(who):\\n    print(\"hello\", who) #nie moze zawierac slowa kluczowego yield, np\\n    #return who #return jest opcjonalne\\n#NIE FUNKCJA\\ndef greeter_2(who):\\n    print(\"hello\", who)\\n    yield 1',\n",
       "   'type(greeter),type( greeter_2)',\n",
       "   'z = greeter(1)',\n",
       "   'print(z)',\n",
       "   'def suma(x,y):\\n    return x+y',\n",
       "   'print(suma(1,2))',\n",
       "   'print(suma(1))',\n",
       "   'def dowolna_suma(*x):\\n    print(x)\\n    z = 0\\n    for liczba in x:\\n        z += x\\n    return z',\n",
       "   'print(dowolna_suma(1,2))',\n",
       "   'def dowolna_suma(*x):\\n    print(x)\\n    z = 0\\n    for liczba in x:\\n        z += liczba\\n    return z',\n",
       "   'print(dowolna_suma(1,2))',\n",
       "   'print(dowolna_suma(1))',\n",
       "   'print(dowolna_suma())',\n",
       "   'print(dowolna_suma(1,2,3,4,5,6,7,8))',\n",
       "   'def dowolna_suma(*x): #starred argument, zwyczajowo *args\\n    #print(x)\\n    z = 0\\n    for liczba in x:\\n        z += liczba\\n    return z',\n",
       "   'print(dowolna_suma(1,2,3,4,5,6,7,8))',\n",
       "   'print(dowolna_suma(1.2,1.2))',\n",
       "   'print(dowolna_suma(\"a\"))',\n",
       "   'print(suma(\"a\",\"b\"))',\n",
       "   'def potega(co, wykladnik=2):\\n    return co**wykladnik',\n",
       "   'potega(2)',\n",
       "   'potega(2,3)',\n",
       "   'potega(co=2, wykladnik=3)',\n",
       "   'potega( wykladnik=3, co=2)',\n",
       "   'potega( wykladnik=3)',\n",
       "   'potega( wykladnik=3, 1)',\n",
       "   'potega( wykladnik=3)',\n",
       "   'potega(1, wykladnik=3)',\n",
       "   'def opakowanie(who, **kwargs):\\n    print(kwargs)\\n    print(who, **kwargs)',\n",
       "   'opakowanie(\"maciej\")',\n",
       "   'def opakowanie(who, **kwargs):\\n    print(kwargs)\\n    print(\"hello\",who, **kwargs)',\n",
       "   'def opakowanie(who, **kwargs):\\n    print(kwargs)\\n    print(\"hello\",who, **kwargs)',\n",
       "   'opakowanie(\"maciej\")',\n",
       "   'opakowanie(\"maciej\", sep=\";\")',\n",
       "   'opakowanie(\"maciej\", sep=\";\", inny=\"\")',\n",
       "   'opakowanie(\"maciej\", sep=\";\")',\n",
       "   'def potega(co, wykladnik=2):\\n    return co**wykladnik, wykladnik',\n",
       "   'potega(3)',\n",
       "   'w, s = potega(3)',\n",
       "   'w',\n",
       "   'def suma_sekwencji(sekwencja):\\n    return sum(sekwencja)',\n",
       "   'slista = [1,2,3,4]',\n",
       "   'suma_sekwencji(sekwencja=wencja=)',\n",
       "   'suma_sekwencji(lista)',\n",
       "   'suma_sekwencji(slista)',\n",
       "   'def suma_sekwencji(sekwencja):\\n    sekwencja = reversed(sekwencja)\\n    return sum(sekwencja)',\n",
       "   'slista = [1,2,3,4]',\n",
       "   'suma_sekwencji(slista)',\n",
       "   'slista',\n",
       "   'reversed(slista)',\n",
       "   'def suma_sekwencji(sekwencja):\\n    sekwencja = list(reversed(sekwencja))\\n    return sum(sekwencja)',\n",
       "   'slista = [1,2,3,4]',\n",
       "   'suma_sekwencji(slista)',\n",
       "   'slista',\n",
       "   'def suma_sekwencji(sekwencja):\\n    sekwencja.append(1)\\n    \\n    return sum(sekwencja)',\n",
       "   'slista = [1,2,3,4]',\n",
       "   'suma_sekwencji(slista)',\n",
       "   'slista',\n",
       "   'suma_sekwencji(slista)',\n",
       "   'slista',\n",
       "   'def suma_sekwencji(sekwencja):\\n    sekwencja.append(1)\\n    sekwencja = sekwencja\\n    return sum(sekwencja)',\n",
       "   'slista = [1,2,3,4]',\n",
       "   'suma_sekwencji(slista)',\n",
       "   'slista',\n",
       "   'def suma_sekwencji(sekwencja):\\n    sekwencja = sekwencja\\n    sekwencja.append(1)\\n\\n    return sum(sekwencja)',\n",
       "   'slista = [1,2,3,4]',\n",
       "   'suma_sekwencji(slista)',\n",
       "   'slista',\n",
       "   'def suma_sekwencji(sekwencja):\\n    sekwencja.append(1)\\n\\n    return sum(sekwencja)',\n",
       "   'slista = [1,2,3,4]',\n",
       "   'suma_sekwencji(slista)',\n",
       "   'slista',\n",
       "   'zb1 = set([1,23,3])',\n",
       "   'zb2 = set((2,3,4))',\n",
       "   'zb2.difference_update(zb1)',\n",
       "   'zb2',\n",
       "   \"zb2.difference_update(zb1) #przyklad funkcji (metody) modyfikujacej obiekt ,,w miejscu''\",\n",
       "   'zb2',\n",
       "   'globals()',\n",
       "   'globals(), locals()'],\n",
       "  'Out': {4: (function, function),\n",
       "   6: (function, function),\n",
       "   11: (function, function),\n",
       "   30: 4,\n",
       "   31: 8,\n",
       "   32: 8,\n",
       "   33: 8,\n",
       "   37: 1,\n",
       "   47: (9, 2),\n",
       "   49: 9,\n",
       "   54: 10,\n",
       "   57: 10,\n",
       "   58: [1, 2, 3, 4],\n",
       "   59: <list_reverseiterator at 0x5e8e4a8>,\n",
       "   62: 10,\n",
       "   63: [1, 2, 3, 4],\n",
       "   66: 11,\n",
       "   67: [1, 2, 3, 4, 1, 1],\n",
       "   68: 12,\n",
       "   69: [1, 2, 3, 4, 1, 1],\n",
       "   72: 11,\n",
       "   73: [1, 2, 3, 4, 1],\n",
       "   76: 11,\n",
       "   77: [1, 2, 3, 4, 1],\n",
       "   80: 11,\n",
       "   81: [1, 2, 3, 4, 1],\n",
       "   85: {2, 4},\n",
       "   87: {2, 4},\n",
       "   88: {...}},\n",
       "  '_': {...},\n",
       "  '_11': (function, function),\n",
       "  '_30': 4,\n",
       "  '_31': 8,\n",
       "  '_32': 8,\n",
       "  '_33': 8,\n",
       "  '_37': 1,\n",
       "  '_4': (function, function),\n",
       "  '_47': (9, 2),\n",
       "  '_49': 9,\n",
       "  '_54': 10,\n",
       "  '_57': 10,\n",
       "  '_58': [1, 2, 3, 4],\n",
       "  '_59': <list_reverseiterator at 0x5e8e4a8>,\n",
       "  '_6': (function, function),\n",
       "  '_62': 10,\n",
       "  '_63': [1, 2, 3, 4],\n",
       "  '_66': 11,\n",
       "  '_67': [1, 2, 3, 4, 1, 1],\n",
       "  '_68': 12,\n",
       "  '_69': [1, 2, 3, 4, 1, 1],\n",
       "  '_72': 11,\n",
       "  '_73': [1, 2, 3, 4, 1],\n",
       "  '_76': 11,\n",
       "  '_77': [1, 2, 3, 4, 1],\n",
       "  '_80': 11,\n",
       "  '_81': [1, 2, 3, 4, 1],\n",
       "  '_85': {2, 4},\n",
       "  '_87': {2, 4},\n",
       "  '_88': {...},\n",
       "  '__': {2, 4},\n",
       "  '___': {2, 4},\n",
       "  '__builtin__': <module 'builtins' (built-in)>,\n",
       "  '__builtins__': <module 'builtins' (built-in)>,\n",
       "  '__doc__': 'Automatically created module for IPython interactive environment',\n",
       "  '__loader__': None,\n",
       "  '__name__': '__main__',\n",
       "  '__package__': None,\n",
       "  '__spec__': None,\n",
       "  '_dh': ['C:\\\\org\\\\szkolenia\\\\python2018\\\\lipiec-podstawy\\\\cwiczenia'],\n",
       "  '_i': 'globals()',\n",
       "  '_i1': '# definicja funkcji\\ndef greeter(who):\\n    print(\"hello\", who)',\n",
       "  '_i10': '# definicja funkcji\\ndef greeter(who):\\n    print(\"hello\", who) #nie moze zawierac slowa kluczowego yield, np\\n    #return who #return jest opcjonalne\\n#NIE FUNKCJA\\ndef greeter_2(who):\\n    print(\"hello\", who)\\n    yield 1',\n",
       "  '_i11': 'type(greeter),type( greeter_2)',\n",
       "  '_i12': 'z = greeter(1)',\n",
       "  '_i13': 'print(z)',\n",
       "  '_i14': 'def suma(x,y):\\n    return x+y',\n",
       "  '_i15': 'print(suma(1,2))',\n",
       "  '_i16': 'print(suma(1))',\n",
       "  '_i17': 'def dowolna_suma(*x):\\n    print(x)\\n    z = 0\\n    for liczba in x:\\n        z += x\\n    return z',\n",
       "  '_i18': 'print(dowolna_suma(1,2))',\n",
       "  '_i19': 'def dowolna_suma(*x):\\n    print(x)\\n    z = 0\\n    for liczba in x:\\n        z += liczba\\n    return z',\n",
       "  '_i2': '# definicja funkcji\\ndef greeter(who):\\n    print(\"hello\", who) #nie moze zawierac slowa kluczowego yield, np\\n    \\n#NIE FUNKCJA\\ndef greeter_2(who):\\n    print(\"hello\", who)\\n    yield',\n",
       "  '_i20': 'print(dowolna_suma(1,2))',\n",
       "  '_i21': 'print(dowolna_suma(1))',\n",
       "  '_i22': 'print(dowolna_suma())',\n",
       "  '_i23': 'print(dowolna_suma(1,2,3,4,5,6,7,8))',\n",
       "  '_i24': 'def dowolna_suma(*x): #starred argument, zwyczajowo *args\\n    #print(x)\\n    z = 0\\n    for liczba in x:\\n        z += liczba\\n    return z',\n",
       "  '_i25': 'print(dowolna_suma(1,2,3,4,5,6,7,8))',\n",
       "  '_i26': 'print(dowolna_suma(1.2,1.2))',\n",
       "  '_i27': 'print(dowolna_suma(\"a\"))',\n",
       "  '_i28': 'print(suma(\"a\",\"b\"))',\n",
       "  '_i29': 'def potega(co, wykladnik=2):\\n    return co**wykladnik',\n",
       "  '_i3': 'type(greeter, greeter_2)',\n",
       "  '_i30': 'potega(2)',\n",
       "  '_i31': 'potega(2,3)',\n",
       "  '_i32': 'potega(co=2, wykladnik=3)',\n",
       "  '_i33': 'potega( wykladnik=3, co=2)',\n",
       "  '_i34': 'potega( wykladnik=3)',\n",
       "  '_i35': 'potega( wykladnik=3, 1)',\n",
       "  '_i36': 'potega( wykladnik=3)',\n",
       "  '_i37': 'potega(1, wykladnik=3)',\n",
       "  '_i38': 'def opakowanie(who, **kwargs):\\n    print(kwargs)\\n    print(who, **kwargs)',\n",
       "  '_i39': 'opakowanie(\"maciej\")',\n",
       "  '_i4': 'type(greeter),type( greeter_2)',\n",
       "  '_i40': 'def opakowanie(who, **kwargs):\\n    print(kwargs)\\n    print(\"hello\",who, **kwargs)',\n",
       "  '_i41': 'def opakowanie(who, **kwargs):\\n    print(kwargs)\\n    print(\"hello\",who, **kwargs)',\n",
       "  '_i42': 'opakowanie(\"maciej\")',\n",
       "  '_i43': 'opakowanie(\"maciej\", sep=\";\")',\n",
       "  '_i44': 'opakowanie(\"maciej\", sep=\";\", inny=\"\")',\n",
       "  '_i45': 'opakowanie(\"maciej\", sep=\";\")',\n",
       "  '_i46': 'def potega(co, wykladnik=2):\\n    return co**wykladnik, wykladnik',\n",
       "  '_i47': 'potega(3)',\n",
       "  '_i48': 'w, s = potega(3)',\n",
       "  '_i49': 'w',\n",
       "  '_i5': '# definicja funkcji\\ndef greeter(who):\\n    print(\"hello\", who) #nie moze zawierac slowa kluczowego yield, np\\n    \\n#NIE FUNKCJA\\ndef greeter_2(who):\\n    print(\"hello\", who)\\n    yield 1',\n",
       "  '_i50': 'def suma_sekwencji(sekwencja):\\n    return sum(sekwencja)',\n",
       "  '_i51': 'slista = [1,2,3,4]',\n",
       "  '_i52': 'suma_sekwencji(sekwencja=wencja=)',\n",
       "  '_i53': 'suma_sekwencji(lista)',\n",
       "  '_i54': 'suma_sekwencji(slista)',\n",
       "  '_i55': 'def suma_sekwencji(sekwencja):\\n    sekwencja = reversed(sekwencja)\\n    return sum(sekwencja)',\n",
       "  '_i56': 'slista = [1,2,3,4]',\n",
       "  '_i57': 'suma_sekwencji(slista)',\n",
       "  '_i58': 'slista',\n",
       "  '_i59': 'reversed(slista)',\n",
       "  '_i6': 'type(greeter),type( greeter_2)',\n",
       "  '_i60': 'def suma_sekwencji(sekwencja):\\n    sekwencja = list(reversed(sekwencja))\\n    return sum(sekwencja)',\n",
       "  '_i61': 'slista = [1,2,3,4]',\n",
       "  '_i62': 'suma_sekwencji(slista)',\n",
       "  '_i63': 'slista',\n",
       "  '_i64': 'def suma_sekwencji(sekwencja):\\n    sekwencja.append(1)\\n    \\n    return sum(sekwencja)',\n",
       "  '_i65': 'slista = [1,2,3,4]',\n",
       "  '_i66': 'suma_sekwencji(slista)',\n",
       "  '_i67': 'slista',\n",
       "  '_i68': 'suma_sekwencji(slista)',\n",
       "  '_i69': 'slista',\n",
       "  '_i7': '# definicja funkcji\\ndef greeter(who):\\n    print(\"hello\", who) #nie moze zawierac slowa kluczowego yield, np\\n    return who\\n#NIE FUNKCJA\\ndef greeter_2(who):\\n    print(\"hello\", who)\\n    yield 1',\n",
       "  '_i70': 'def suma_sekwencji(sekwencja):\\n    sekwencja.append(1)\\n    sekwencja = sekwencja\\n    return sum(sekwencja)',\n",
       "  '_i71': 'slista = [1,2,3,4]',\n",
       "  '_i72': 'suma_sekwencji(slista)',\n",
       "  '_i73': 'slista',\n",
       "  '_i74': 'def suma_sekwencji(sekwencja):\\n    sekwencja = sekwencja\\n    sekwencja.append(1)\\n\\n    return sum(sekwencja)',\n",
       "  '_i75': 'slista = [1,2,3,4]',\n",
       "  '_i76': 'suma_sekwencji(slista)',\n",
       "  '_i77': 'slista',\n",
       "  '_i78': 'def suma_sekwencji(sekwencja):\\n    sekwencja.append(1)\\n\\n    return sum(sekwencja)',\n",
       "  '_i79': 'slista = [1,2,3,4]',\n",
       "  '_i8': 'z = greeter(1)',\n",
       "  '_i80': 'suma_sekwencji(slista)',\n",
       "  '_i81': 'slista',\n",
       "  '_i82': 'zb1 = set([1,23,3])',\n",
       "  '_i83': 'zb2 = set((2,3,4))',\n",
       "  '_i84': 'zb2.difference_update(zb1)',\n",
       "  '_i85': 'zb2',\n",
       "  '_i86': \"zb2.difference_update(zb1) #przyklad funkcji (metody) modyfikujacej obiekt ,,w miejscu''\",\n",
       "  '_i87': 'zb2',\n",
       "  '_i88': 'globals()',\n",
       "  '_i89': 'globals(), locals()',\n",
       "  '_i9': 'print(z)',\n",
       "  '_ih': ['',\n",
       "   '# definicja funkcji\\ndef greeter(who):\\n    print(\"hello\", who)',\n",
       "   '# definicja funkcji\\ndef greeter(who):\\n    print(\"hello\", who) #nie moze zawierac slowa kluczowego yield, np\\n    \\n#NIE FUNKCJA\\ndef greeter_2(who):\\n    print(\"hello\", who)\\n    yield',\n",
       "   'type(greeter, greeter_2)',\n",
       "   'type(greeter),type( greeter_2)',\n",
       "   '# definicja funkcji\\ndef greeter(who):\\n    print(\"hello\", who) #nie moze zawierac slowa kluczowego yield, np\\n    \\n#NIE FUNKCJA\\ndef greeter_2(who):\\n    print(\"hello\", who)\\n    yield 1',\n",
       "   'type(greeter),type( greeter_2)',\n",
       "   '# definicja funkcji\\ndef greeter(who):\\n    print(\"hello\", who) #nie moze zawierac slowa kluczowego yield, np\\n    return who\\n#NIE FUNKCJA\\ndef greeter_2(who):\\n    print(\"hello\", who)\\n    yield 1',\n",
       "   'z = greeter(1)',\n",
       "   'print(z)',\n",
       "   '# definicja funkcji\\ndef greeter(who):\\n    print(\"hello\", who) #nie moze zawierac slowa kluczowego yield, np\\n    #return who #return jest opcjonalne\\n#NIE FUNKCJA\\ndef greeter_2(who):\\n    print(\"hello\", who)\\n    yield 1',\n",
       "   'type(greeter),type( greeter_2)',\n",
       "   'z = greeter(1)',\n",
       "   'print(z)',\n",
       "   'def suma(x,y):\\n    return x+y',\n",
       "   'print(suma(1,2))',\n",
       "   'print(suma(1))',\n",
       "   'def dowolna_suma(*x):\\n    print(x)\\n    z = 0\\n    for liczba in x:\\n        z += x\\n    return z',\n",
       "   'print(dowolna_suma(1,2))',\n",
       "   'def dowolna_suma(*x):\\n    print(x)\\n    z = 0\\n    for liczba in x:\\n        z += liczba\\n    return z',\n",
       "   'print(dowolna_suma(1,2))',\n",
       "   'print(dowolna_suma(1))',\n",
       "   'print(dowolna_suma())',\n",
       "   'print(dowolna_suma(1,2,3,4,5,6,7,8))',\n",
       "   'def dowolna_suma(*x): #starred argument, zwyczajowo *args\\n    #print(x)\\n    z = 0\\n    for liczba in x:\\n        z += liczba\\n    return z',\n",
       "   'print(dowolna_suma(1,2,3,4,5,6,7,8))',\n",
       "   'print(dowolna_suma(1.2,1.2))',\n",
       "   'print(dowolna_suma(\"a\"))',\n",
       "   'print(suma(\"a\",\"b\"))',\n",
       "   'def potega(co, wykladnik=2):\\n    return co**wykladnik',\n",
       "   'potega(2)',\n",
       "   'potega(2,3)',\n",
       "   'potega(co=2, wykladnik=3)',\n",
       "   'potega( wykladnik=3, co=2)',\n",
       "   'potega( wykladnik=3)',\n",
       "   'potega( wykladnik=3, 1)',\n",
       "   'potega( wykladnik=3)',\n",
       "   'potega(1, wykladnik=3)',\n",
       "   'def opakowanie(who, **kwargs):\\n    print(kwargs)\\n    print(who, **kwargs)',\n",
       "   'opakowanie(\"maciej\")',\n",
       "   'def opakowanie(who, **kwargs):\\n    print(kwargs)\\n    print(\"hello\",who, **kwargs)',\n",
       "   'def opakowanie(who, **kwargs):\\n    print(kwargs)\\n    print(\"hello\",who, **kwargs)',\n",
       "   'opakowanie(\"maciej\")',\n",
       "   'opakowanie(\"maciej\", sep=\";\")',\n",
       "   'opakowanie(\"maciej\", sep=\";\", inny=\"\")',\n",
       "   'opakowanie(\"maciej\", sep=\";\")',\n",
       "   'def potega(co, wykladnik=2):\\n    return co**wykladnik, wykladnik',\n",
       "   'potega(3)',\n",
       "   'w, s = potega(3)',\n",
       "   'w',\n",
       "   'def suma_sekwencji(sekwencja):\\n    return sum(sekwencja)',\n",
       "   'slista = [1,2,3,4]',\n",
       "   'suma_sekwencji(sekwencja=wencja=)',\n",
       "   'suma_sekwencji(lista)',\n",
       "   'suma_sekwencji(slista)',\n",
       "   'def suma_sekwencji(sekwencja):\\n    sekwencja = reversed(sekwencja)\\n    return sum(sekwencja)',\n",
       "   'slista = [1,2,3,4]',\n",
       "   'suma_sekwencji(slista)',\n",
       "   'slista',\n",
       "   'reversed(slista)',\n",
       "   'def suma_sekwencji(sekwencja):\\n    sekwencja = list(reversed(sekwencja))\\n    return sum(sekwencja)',\n",
       "   'slista = [1,2,3,4]',\n",
       "   'suma_sekwencji(slista)',\n",
       "   'slista',\n",
       "   'def suma_sekwencji(sekwencja):\\n    sekwencja.append(1)\\n    \\n    return sum(sekwencja)',\n",
       "   'slista = [1,2,3,4]',\n",
       "   'suma_sekwencji(slista)',\n",
       "   'slista',\n",
       "   'suma_sekwencji(slista)',\n",
       "   'slista',\n",
       "   'def suma_sekwencji(sekwencja):\\n    sekwencja.append(1)\\n    sekwencja = sekwencja\\n    return sum(sekwencja)',\n",
       "   'slista = [1,2,3,4]',\n",
       "   'suma_sekwencji(slista)',\n",
       "   'slista',\n",
       "   'def suma_sekwencji(sekwencja):\\n    sekwencja = sekwencja\\n    sekwencja.append(1)\\n\\n    return sum(sekwencja)',\n",
       "   'slista = [1,2,3,4]',\n",
       "   'suma_sekwencji(slista)',\n",
       "   'slista',\n",
       "   'def suma_sekwencji(sekwencja):\\n    sekwencja.append(1)\\n\\n    return sum(sekwencja)',\n",
       "   'slista = [1,2,3,4]',\n",
       "   'suma_sekwencji(slista)',\n",
       "   'slista',\n",
       "   'zb1 = set([1,23,3])',\n",
       "   'zb2 = set((2,3,4))',\n",
       "   'zb2.difference_update(zb1)',\n",
       "   'zb2',\n",
       "   \"zb2.difference_update(zb1) #przyklad funkcji (metody) modyfikujacej obiekt ,,w miejscu''\",\n",
       "   'zb2',\n",
       "   'globals()',\n",
       "   'globals(), locals()'],\n",
       "  '_ii': 'zb2',\n",
       "  '_iii': \"zb2.difference_update(zb1) #przyklad funkcji (metody) modyfikujacej obiekt ,,w miejscu''\",\n",
       "  '_oh': {4: (function, function),\n",
       "   6: (function, function),\n",
       "   11: (function, function),\n",
       "   30: 4,\n",
       "   31: 8,\n",
       "   32: 8,\n",
       "   33: 8,\n",
       "   37: 1,\n",
       "   47: (9, 2),\n",
       "   49: 9,\n",
       "   54: 10,\n",
       "   57: 10,\n",
       "   58: [1, 2, 3, 4],\n",
       "   59: <list_reverseiterator at 0x5e8e4a8>,\n",
       "   62: 10,\n",
       "   63: [1, 2, 3, 4],\n",
       "   66: 11,\n",
       "   67: [1, 2, 3, 4, 1, 1],\n",
       "   68: 12,\n",
       "   69: [1, 2, 3, 4, 1, 1],\n",
       "   72: 11,\n",
       "   73: [1, 2, 3, 4, 1],\n",
       "   76: 11,\n",
       "   77: [1, 2, 3, 4, 1],\n",
       "   80: 11,\n",
       "   81: [1, 2, 3, 4, 1],\n",
       "   85: {2, 4},\n",
       "   87: {2, 4},\n",
       "   88: {...}},\n",
       "  'dowolna_suma': <function __main__.dowolna_suma>,\n",
       "  'exit': <IPython.core.autocall.ZMQExitAutocall at 0x5a26860>,\n",
       "  'get_ipython': <bound method InteractiveShell.get_ipython of <ipykernel.zmqshell.ZMQInteractiveShell object at 0x00000000059C86A0>>,\n",
       "  'greeter': <function __main__.greeter>,\n",
       "  'greeter_2': <function __main__.greeter_2>,\n",
       "  'opakowanie': <function __main__.opakowanie>,\n",
       "  'potega': <function __main__.potega>,\n",
       "  'quit': <IPython.core.autocall.ZMQExitAutocall at 0x5a26860>,\n",
       "  's': 2,\n",
       "  'slista': [1, 2, 3, 4, 1],\n",
       "  'suma': <function __main__.suma>,\n",
       "  'suma_sekwencji': <function __main__.suma_sekwencji>,\n",
       "  'w': 9,\n",
       "  'z': None,\n",
       "  'zb1': {1, 3, 23},\n",
       "  'zb2': {2, 4}},\n",
       " {'In': ['',\n",
       "   '# definicja funkcji\\ndef greeter(who):\\n    print(\"hello\", who)',\n",
       "   '# definicja funkcji\\ndef greeter(who):\\n    print(\"hello\", who) #nie moze zawierac slowa kluczowego yield, np\\n    \\n#NIE FUNKCJA\\ndef greeter_2(who):\\n    print(\"hello\", who)\\n    yield',\n",
       "   'type(greeter, greeter_2)',\n",
       "   'type(greeter),type( greeter_2)',\n",
       "   '# definicja funkcji\\ndef greeter(who):\\n    print(\"hello\", who) #nie moze zawierac slowa kluczowego yield, np\\n    \\n#NIE FUNKCJA\\ndef greeter_2(who):\\n    print(\"hello\", who)\\n    yield 1',\n",
       "   'type(greeter),type( greeter_2)',\n",
       "   '# definicja funkcji\\ndef greeter(who):\\n    print(\"hello\", who) #nie moze zawierac slowa kluczowego yield, np\\n    return who\\n#NIE FUNKCJA\\ndef greeter_2(who):\\n    print(\"hello\", who)\\n    yield 1',\n",
       "   'z = greeter(1)',\n",
       "   'print(z)',\n",
       "   '# definicja funkcji\\ndef greeter(who):\\n    print(\"hello\", who) #nie moze zawierac slowa kluczowego yield, np\\n    #return who #return jest opcjonalne\\n#NIE FUNKCJA\\ndef greeter_2(who):\\n    print(\"hello\", who)\\n    yield 1',\n",
       "   'type(greeter),type( greeter_2)',\n",
       "   'z = greeter(1)',\n",
       "   'print(z)',\n",
       "   'def suma(x,y):\\n    return x+y',\n",
       "   'print(suma(1,2))',\n",
       "   'print(suma(1))',\n",
       "   'def dowolna_suma(*x):\\n    print(x)\\n    z = 0\\n    for liczba in x:\\n        z += x\\n    return z',\n",
       "   'print(dowolna_suma(1,2))',\n",
       "   'def dowolna_suma(*x):\\n    print(x)\\n    z = 0\\n    for liczba in x:\\n        z += liczba\\n    return z',\n",
       "   'print(dowolna_suma(1,2))',\n",
       "   'print(dowolna_suma(1))',\n",
       "   'print(dowolna_suma())',\n",
       "   'print(dowolna_suma(1,2,3,4,5,6,7,8))',\n",
       "   'def dowolna_suma(*x): #starred argument, zwyczajowo *args\\n    #print(x)\\n    z = 0\\n    for liczba in x:\\n        z += liczba\\n    return z',\n",
       "   'print(dowolna_suma(1,2,3,4,5,6,7,8))',\n",
       "   'print(dowolna_suma(1.2,1.2))',\n",
       "   'print(dowolna_suma(\"a\"))',\n",
       "   'print(suma(\"a\",\"b\"))',\n",
       "   'def potega(co, wykladnik=2):\\n    return co**wykladnik',\n",
       "   'potega(2)',\n",
       "   'potega(2,3)',\n",
       "   'potega(co=2, wykladnik=3)',\n",
       "   'potega( wykladnik=3, co=2)',\n",
       "   'potega( wykladnik=3)',\n",
       "   'potega( wykladnik=3, 1)',\n",
       "   'potega( wykladnik=3)',\n",
       "   'potega(1, wykladnik=3)',\n",
       "   'def opakowanie(who, **kwargs):\\n    print(kwargs)\\n    print(who, **kwargs)',\n",
       "   'opakowanie(\"maciej\")',\n",
       "   'def opakowanie(who, **kwargs):\\n    print(kwargs)\\n    print(\"hello\",who, **kwargs)',\n",
       "   'def opakowanie(who, **kwargs):\\n    print(kwargs)\\n    print(\"hello\",who, **kwargs)',\n",
       "   'opakowanie(\"maciej\")',\n",
       "   'opakowanie(\"maciej\", sep=\";\")',\n",
       "   'opakowanie(\"maciej\", sep=\";\", inny=\"\")',\n",
       "   'opakowanie(\"maciej\", sep=\";\")',\n",
       "   'def potega(co, wykladnik=2):\\n    return co**wykladnik, wykladnik',\n",
       "   'potega(3)',\n",
       "   'w, s = potega(3)',\n",
       "   'w',\n",
       "   'def suma_sekwencji(sekwencja):\\n    return sum(sekwencja)',\n",
       "   'slista = [1,2,3,4]',\n",
       "   'suma_sekwencji(sekwencja=wencja=)',\n",
       "   'suma_sekwencji(lista)',\n",
       "   'suma_sekwencji(slista)',\n",
       "   'def suma_sekwencji(sekwencja):\\n    sekwencja = reversed(sekwencja)\\n    return sum(sekwencja)',\n",
       "   'slista = [1,2,3,4]',\n",
       "   'suma_sekwencji(slista)',\n",
       "   'slista',\n",
       "   'reversed(slista)',\n",
       "   'def suma_sekwencji(sekwencja):\\n    sekwencja = list(reversed(sekwencja))\\n    return sum(sekwencja)',\n",
       "   'slista = [1,2,3,4]',\n",
       "   'suma_sekwencji(slista)',\n",
       "   'slista',\n",
       "   'def suma_sekwencji(sekwencja):\\n    sekwencja.append(1)\\n    \\n    return sum(sekwencja)',\n",
       "   'slista = [1,2,3,4]',\n",
       "   'suma_sekwencji(slista)',\n",
       "   'slista',\n",
       "   'suma_sekwencji(slista)',\n",
       "   'slista',\n",
       "   'def suma_sekwencji(sekwencja):\\n    sekwencja.append(1)\\n    sekwencja = sekwencja\\n    return sum(sekwencja)',\n",
       "   'slista = [1,2,3,4]',\n",
       "   'suma_sekwencji(slista)',\n",
       "   'slista',\n",
       "   'def suma_sekwencji(sekwencja):\\n    sekwencja = sekwencja\\n    sekwencja.append(1)\\n\\n    return sum(sekwencja)',\n",
       "   'slista = [1,2,3,4]',\n",
       "   'suma_sekwencji(slista)',\n",
       "   'slista',\n",
       "   'def suma_sekwencji(sekwencja):\\n    sekwencja.append(1)\\n\\n    return sum(sekwencja)',\n",
       "   'slista = [1,2,3,4]',\n",
       "   'suma_sekwencji(slista)',\n",
       "   'slista',\n",
       "   'zb1 = set([1,23,3])',\n",
       "   'zb2 = set((2,3,4))',\n",
       "   'zb2.difference_update(zb1)',\n",
       "   'zb2',\n",
       "   \"zb2.difference_update(zb1) #przyklad funkcji (metody) modyfikujacej obiekt ,,w miejscu''\",\n",
       "   'zb2',\n",
       "   'globals()',\n",
       "   'globals(), locals()'],\n",
       "  'Out': {4: (function, function),\n",
       "   6: (function, function),\n",
       "   11: (function, function),\n",
       "   30: 4,\n",
       "   31: 8,\n",
       "   32: 8,\n",
       "   33: 8,\n",
       "   37: 1,\n",
       "   47: (9, 2),\n",
       "   49: 9,\n",
       "   54: 10,\n",
       "   57: 10,\n",
       "   58: [1, 2, 3, 4],\n",
       "   59: <list_reverseiterator at 0x5e8e4a8>,\n",
       "   62: 10,\n",
       "   63: [1, 2, 3, 4],\n",
       "   66: 11,\n",
       "   67: [1, 2, 3, 4, 1, 1],\n",
       "   68: 12,\n",
       "   69: [1, 2, 3, 4, 1, 1],\n",
       "   72: 11,\n",
       "   73: [1, 2, 3, 4, 1],\n",
       "   76: 11,\n",
       "   77: [1, 2, 3, 4, 1],\n",
       "   80: 11,\n",
       "   81: [1, 2, 3, 4, 1],\n",
       "   85: {2, 4},\n",
       "   87: {2, 4},\n",
       "   88: {...}},\n",
       "  '_': {...},\n",
       "  '_11': (function, function),\n",
       "  '_30': 4,\n",
       "  '_31': 8,\n",
       "  '_32': 8,\n",
       "  '_33': 8,\n",
       "  '_37': 1,\n",
       "  '_4': (function, function),\n",
       "  '_47': (9, 2),\n",
       "  '_49': 9,\n",
       "  '_54': 10,\n",
       "  '_57': 10,\n",
       "  '_58': [1, 2, 3, 4],\n",
       "  '_59': <list_reverseiterator at 0x5e8e4a8>,\n",
       "  '_6': (function, function),\n",
       "  '_62': 10,\n",
       "  '_63': [1, 2, 3, 4],\n",
       "  '_66': 11,\n",
       "  '_67': [1, 2, 3, 4, 1, 1],\n",
       "  '_68': 12,\n",
       "  '_69': [1, 2, 3, 4, 1, 1],\n",
       "  '_72': 11,\n",
       "  '_73': [1, 2, 3, 4, 1],\n",
       "  '_76': 11,\n",
       "  '_77': [1, 2, 3, 4, 1],\n",
       "  '_80': 11,\n",
       "  '_81': [1, 2, 3, 4, 1],\n",
       "  '_85': {2, 4},\n",
       "  '_87': {2, 4},\n",
       "  '_88': {...},\n",
       "  '__': {2, 4},\n",
       "  '___': {2, 4},\n",
       "  '__builtin__': <module 'builtins' (built-in)>,\n",
       "  '__builtins__': <module 'builtins' (built-in)>,\n",
       "  '__doc__': 'Automatically created module for IPython interactive environment',\n",
       "  '__loader__': None,\n",
       "  '__name__': '__main__',\n",
       "  '__package__': None,\n",
       "  '__spec__': None,\n",
       "  '_dh': ['C:\\\\org\\\\szkolenia\\\\python2018\\\\lipiec-podstawy\\\\cwiczenia'],\n",
       "  '_i': 'globals()',\n",
       "  '_i1': '# definicja funkcji\\ndef greeter(who):\\n    print(\"hello\", who)',\n",
       "  '_i10': '# definicja funkcji\\ndef greeter(who):\\n    print(\"hello\", who) #nie moze zawierac slowa kluczowego yield, np\\n    #return who #return jest opcjonalne\\n#NIE FUNKCJA\\ndef greeter_2(who):\\n    print(\"hello\", who)\\n    yield 1',\n",
       "  '_i11': 'type(greeter),type( greeter_2)',\n",
       "  '_i12': 'z = greeter(1)',\n",
       "  '_i13': 'print(z)',\n",
       "  '_i14': 'def suma(x,y):\\n    return x+y',\n",
       "  '_i15': 'print(suma(1,2))',\n",
       "  '_i16': 'print(suma(1))',\n",
       "  '_i17': 'def dowolna_suma(*x):\\n    print(x)\\n    z = 0\\n    for liczba in x:\\n        z += x\\n    return z',\n",
       "  '_i18': 'print(dowolna_suma(1,2))',\n",
       "  '_i19': 'def dowolna_suma(*x):\\n    print(x)\\n    z = 0\\n    for liczba in x:\\n        z += liczba\\n    return z',\n",
       "  '_i2': '# definicja funkcji\\ndef greeter(who):\\n    print(\"hello\", who) #nie moze zawierac slowa kluczowego yield, np\\n    \\n#NIE FUNKCJA\\ndef greeter_2(who):\\n    print(\"hello\", who)\\n    yield',\n",
       "  '_i20': 'print(dowolna_suma(1,2))',\n",
       "  '_i21': 'print(dowolna_suma(1))',\n",
       "  '_i22': 'print(dowolna_suma())',\n",
       "  '_i23': 'print(dowolna_suma(1,2,3,4,5,6,7,8))',\n",
       "  '_i24': 'def dowolna_suma(*x): #starred argument, zwyczajowo *args\\n    #print(x)\\n    z = 0\\n    for liczba in x:\\n        z += liczba\\n    return z',\n",
       "  '_i25': 'print(dowolna_suma(1,2,3,4,5,6,7,8))',\n",
       "  '_i26': 'print(dowolna_suma(1.2,1.2))',\n",
       "  '_i27': 'print(dowolna_suma(\"a\"))',\n",
       "  '_i28': 'print(suma(\"a\",\"b\"))',\n",
       "  '_i29': 'def potega(co, wykladnik=2):\\n    return co**wykladnik',\n",
       "  '_i3': 'type(greeter, greeter_2)',\n",
       "  '_i30': 'potega(2)',\n",
       "  '_i31': 'potega(2,3)',\n",
       "  '_i32': 'potega(co=2, wykladnik=3)',\n",
       "  '_i33': 'potega( wykladnik=3, co=2)',\n",
       "  '_i34': 'potega( wykladnik=3)',\n",
       "  '_i35': 'potega( wykladnik=3, 1)',\n",
       "  '_i36': 'potega( wykladnik=3)',\n",
       "  '_i37': 'potega(1, wykladnik=3)',\n",
       "  '_i38': 'def opakowanie(who, **kwargs):\\n    print(kwargs)\\n    print(who, **kwargs)',\n",
       "  '_i39': 'opakowanie(\"maciej\")',\n",
       "  '_i4': 'type(greeter),type( greeter_2)',\n",
       "  '_i40': 'def opakowanie(who, **kwargs):\\n    print(kwargs)\\n    print(\"hello\",who, **kwargs)',\n",
       "  '_i41': 'def opakowanie(who, **kwargs):\\n    print(kwargs)\\n    print(\"hello\",who, **kwargs)',\n",
       "  '_i42': 'opakowanie(\"maciej\")',\n",
       "  '_i43': 'opakowanie(\"maciej\", sep=\";\")',\n",
       "  '_i44': 'opakowanie(\"maciej\", sep=\";\", inny=\"\")',\n",
       "  '_i45': 'opakowanie(\"maciej\", sep=\";\")',\n",
       "  '_i46': 'def potega(co, wykladnik=2):\\n    return co**wykladnik, wykladnik',\n",
       "  '_i47': 'potega(3)',\n",
       "  '_i48': 'w, s = potega(3)',\n",
       "  '_i49': 'w',\n",
       "  '_i5': '# definicja funkcji\\ndef greeter(who):\\n    print(\"hello\", who) #nie moze zawierac slowa kluczowego yield, np\\n    \\n#NIE FUNKCJA\\ndef greeter_2(who):\\n    print(\"hello\", who)\\n    yield 1',\n",
       "  '_i50': 'def suma_sekwencji(sekwencja):\\n    return sum(sekwencja)',\n",
       "  '_i51': 'slista = [1,2,3,4]',\n",
       "  '_i52': 'suma_sekwencji(sekwencja=wencja=)',\n",
       "  '_i53': 'suma_sekwencji(lista)',\n",
       "  '_i54': 'suma_sekwencji(slista)',\n",
       "  '_i55': 'def suma_sekwencji(sekwencja):\\n    sekwencja = reversed(sekwencja)\\n    return sum(sekwencja)',\n",
       "  '_i56': 'slista = [1,2,3,4]',\n",
       "  '_i57': 'suma_sekwencji(slista)',\n",
       "  '_i58': 'slista',\n",
       "  '_i59': 'reversed(slista)',\n",
       "  '_i6': 'type(greeter),type( greeter_2)',\n",
       "  '_i60': 'def suma_sekwencji(sekwencja):\\n    sekwencja = list(reversed(sekwencja))\\n    return sum(sekwencja)',\n",
       "  '_i61': 'slista = [1,2,3,4]',\n",
       "  '_i62': 'suma_sekwencji(slista)',\n",
       "  '_i63': 'slista',\n",
       "  '_i64': 'def suma_sekwencji(sekwencja):\\n    sekwencja.append(1)\\n    \\n    return sum(sekwencja)',\n",
       "  '_i65': 'slista = [1,2,3,4]',\n",
       "  '_i66': 'suma_sekwencji(slista)',\n",
       "  '_i67': 'slista',\n",
       "  '_i68': 'suma_sekwencji(slista)',\n",
       "  '_i69': 'slista',\n",
       "  '_i7': '# definicja funkcji\\ndef greeter(who):\\n    print(\"hello\", who) #nie moze zawierac slowa kluczowego yield, np\\n    return who\\n#NIE FUNKCJA\\ndef greeter_2(who):\\n    print(\"hello\", who)\\n    yield 1',\n",
       "  '_i70': 'def suma_sekwencji(sekwencja):\\n    sekwencja.append(1)\\n    sekwencja = sekwencja\\n    return sum(sekwencja)',\n",
       "  '_i71': 'slista = [1,2,3,4]',\n",
       "  '_i72': 'suma_sekwencji(slista)',\n",
       "  '_i73': 'slista',\n",
       "  '_i74': 'def suma_sekwencji(sekwencja):\\n    sekwencja = sekwencja\\n    sekwencja.append(1)\\n\\n    return sum(sekwencja)',\n",
       "  '_i75': 'slista = [1,2,3,4]',\n",
       "  '_i76': 'suma_sekwencji(slista)',\n",
       "  '_i77': 'slista',\n",
       "  '_i78': 'def suma_sekwencji(sekwencja):\\n    sekwencja.append(1)\\n\\n    return sum(sekwencja)',\n",
       "  '_i79': 'slista = [1,2,3,4]',\n",
       "  '_i8': 'z = greeter(1)',\n",
       "  '_i80': 'suma_sekwencji(slista)',\n",
       "  '_i81': 'slista',\n",
       "  '_i82': 'zb1 = set([1,23,3])',\n",
       "  '_i83': 'zb2 = set((2,3,4))',\n",
       "  '_i84': 'zb2.difference_update(zb1)',\n",
       "  '_i85': 'zb2',\n",
       "  '_i86': \"zb2.difference_update(zb1) #przyklad funkcji (metody) modyfikujacej obiekt ,,w miejscu''\",\n",
       "  '_i87': 'zb2',\n",
       "  '_i88': 'globals()',\n",
       "  '_i89': 'globals(), locals()',\n",
       "  '_i9': 'print(z)',\n",
       "  '_ih': ['',\n",
       "   '# definicja funkcji\\ndef greeter(who):\\n    print(\"hello\", who)',\n",
       "   '# definicja funkcji\\ndef greeter(who):\\n    print(\"hello\", who) #nie moze zawierac slowa kluczowego yield, np\\n    \\n#NIE FUNKCJA\\ndef greeter_2(who):\\n    print(\"hello\", who)\\n    yield',\n",
       "   'type(greeter, greeter_2)',\n",
       "   'type(greeter),type( greeter_2)',\n",
       "   '# definicja funkcji\\ndef greeter(who):\\n    print(\"hello\", who) #nie moze zawierac slowa kluczowego yield, np\\n    \\n#NIE FUNKCJA\\ndef greeter_2(who):\\n    print(\"hello\", who)\\n    yield 1',\n",
       "   'type(greeter),type( greeter_2)',\n",
       "   '# definicja funkcji\\ndef greeter(who):\\n    print(\"hello\", who) #nie moze zawierac slowa kluczowego yield, np\\n    return who\\n#NIE FUNKCJA\\ndef greeter_2(who):\\n    print(\"hello\", who)\\n    yield 1',\n",
       "   'z = greeter(1)',\n",
       "   'print(z)',\n",
       "   '# definicja funkcji\\ndef greeter(who):\\n    print(\"hello\", who) #nie moze zawierac slowa kluczowego yield, np\\n    #return who #return jest opcjonalne\\n#NIE FUNKCJA\\ndef greeter_2(who):\\n    print(\"hello\", who)\\n    yield 1',\n",
       "   'type(greeter),type( greeter_2)',\n",
       "   'z = greeter(1)',\n",
       "   'print(z)',\n",
       "   'def suma(x,y):\\n    return x+y',\n",
       "   'print(suma(1,2))',\n",
       "   'print(suma(1))',\n",
       "   'def dowolna_suma(*x):\\n    print(x)\\n    z = 0\\n    for liczba in x:\\n        z += x\\n    return z',\n",
       "   'print(dowolna_suma(1,2))',\n",
       "   'def dowolna_suma(*x):\\n    print(x)\\n    z = 0\\n    for liczba in x:\\n        z += liczba\\n    return z',\n",
       "   'print(dowolna_suma(1,2))',\n",
       "   'print(dowolna_suma(1))',\n",
       "   'print(dowolna_suma())',\n",
       "   'print(dowolna_suma(1,2,3,4,5,6,7,8))',\n",
       "   'def dowolna_suma(*x): #starred argument, zwyczajowo *args\\n    #print(x)\\n    z = 0\\n    for liczba in x:\\n        z += liczba\\n    return z',\n",
       "   'print(dowolna_suma(1,2,3,4,5,6,7,8))',\n",
       "   'print(dowolna_suma(1.2,1.2))',\n",
       "   'print(dowolna_suma(\"a\"))',\n",
       "   'print(suma(\"a\",\"b\"))',\n",
       "   'def potega(co, wykladnik=2):\\n    return co**wykladnik',\n",
       "   'potega(2)',\n",
       "   'potega(2,3)',\n",
       "   'potega(co=2, wykladnik=3)',\n",
       "   'potega( wykladnik=3, co=2)',\n",
       "   'potega( wykladnik=3)',\n",
       "   'potega( wykladnik=3, 1)',\n",
       "   'potega( wykladnik=3)',\n",
       "   'potega(1, wykladnik=3)',\n",
       "   'def opakowanie(who, **kwargs):\\n    print(kwargs)\\n    print(who, **kwargs)',\n",
       "   'opakowanie(\"maciej\")',\n",
       "   'def opakowanie(who, **kwargs):\\n    print(kwargs)\\n    print(\"hello\",who, **kwargs)',\n",
       "   'def opakowanie(who, **kwargs):\\n    print(kwargs)\\n    print(\"hello\",who, **kwargs)',\n",
       "   'opakowanie(\"maciej\")',\n",
       "   'opakowanie(\"maciej\", sep=\";\")',\n",
       "   'opakowanie(\"maciej\", sep=\";\", inny=\"\")',\n",
       "   'opakowanie(\"maciej\", sep=\";\")',\n",
       "   'def potega(co, wykladnik=2):\\n    return co**wykladnik, wykladnik',\n",
       "   'potega(3)',\n",
       "   'w, s = potega(3)',\n",
       "   'w',\n",
       "   'def suma_sekwencji(sekwencja):\\n    return sum(sekwencja)',\n",
       "   'slista = [1,2,3,4]',\n",
       "   'suma_sekwencji(sekwencja=wencja=)',\n",
       "   'suma_sekwencji(lista)',\n",
       "   'suma_sekwencji(slista)',\n",
       "   'def suma_sekwencji(sekwencja):\\n    sekwencja = reversed(sekwencja)\\n    return sum(sekwencja)',\n",
       "   'slista = [1,2,3,4]',\n",
       "   'suma_sekwencji(slista)',\n",
       "   'slista',\n",
       "   'reversed(slista)',\n",
       "   'def suma_sekwencji(sekwencja):\\n    sekwencja = list(reversed(sekwencja))\\n    return sum(sekwencja)',\n",
       "   'slista = [1,2,3,4]',\n",
       "   'suma_sekwencji(slista)',\n",
       "   'slista',\n",
       "   'def suma_sekwencji(sekwencja):\\n    sekwencja.append(1)\\n    \\n    return sum(sekwencja)',\n",
       "   'slista = [1,2,3,4]',\n",
       "   'suma_sekwencji(slista)',\n",
       "   'slista',\n",
       "   'suma_sekwencji(slista)',\n",
       "   'slista',\n",
       "   'def suma_sekwencji(sekwencja):\\n    sekwencja.append(1)\\n    sekwencja = sekwencja\\n    return sum(sekwencja)',\n",
       "   'slista = [1,2,3,4]',\n",
       "   'suma_sekwencji(slista)',\n",
       "   'slista',\n",
       "   'def suma_sekwencji(sekwencja):\\n    sekwencja = sekwencja\\n    sekwencja.append(1)\\n\\n    return sum(sekwencja)',\n",
       "   'slista = [1,2,3,4]',\n",
       "   'suma_sekwencji(slista)',\n",
       "   'slista',\n",
       "   'def suma_sekwencji(sekwencja):\\n    sekwencja.append(1)\\n\\n    return sum(sekwencja)',\n",
       "   'slista = [1,2,3,4]',\n",
       "   'suma_sekwencji(slista)',\n",
       "   'slista',\n",
       "   'zb1 = set([1,23,3])',\n",
       "   'zb2 = set((2,3,4))',\n",
       "   'zb2.difference_update(zb1)',\n",
       "   'zb2',\n",
       "   \"zb2.difference_update(zb1) #przyklad funkcji (metody) modyfikujacej obiekt ,,w miejscu''\",\n",
       "   'zb2',\n",
       "   'globals()',\n",
       "   'globals(), locals()'],\n",
       "  '_ii': 'zb2',\n",
       "  '_iii': \"zb2.difference_update(zb1) #przyklad funkcji (metody) modyfikujacej obiekt ,,w miejscu''\",\n",
       "  '_oh': {4: (function, function),\n",
       "   6: (function, function),\n",
       "   11: (function, function),\n",
       "   30: 4,\n",
       "   31: 8,\n",
       "   32: 8,\n",
       "   33: 8,\n",
       "   37: 1,\n",
       "   47: (9, 2),\n",
       "   49: 9,\n",
       "   54: 10,\n",
       "   57: 10,\n",
       "   58: [1, 2, 3, 4],\n",
       "   59: <list_reverseiterator at 0x5e8e4a8>,\n",
       "   62: 10,\n",
       "   63: [1, 2, 3, 4],\n",
       "   66: 11,\n",
       "   67: [1, 2, 3, 4, 1, 1],\n",
       "   68: 12,\n",
       "   69: [1, 2, 3, 4, 1, 1],\n",
       "   72: 11,\n",
       "   73: [1, 2, 3, 4, 1],\n",
       "   76: 11,\n",
       "   77: [1, 2, 3, 4, 1],\n",
       "   80: 11,\n",
       "   81: [1, 2, 3, 4, 1],\n",
       "   85: {2, 4},\n",
       "   87: {2, 4},\n",
       "   88: {...}},\n",
       "  'dowolna_suma': <function __main__.dowolna_suma>,\n",
       "  'exit': <IPython.core.autocall.ZMQExitAutocall at 0x5a26860>,\n",
       "  'get_ipython': <bound method InteractiveShell.get_ipython of <ipykernel.zmqshell.ZMQInteractiveShell object at 0x00000000059C86A0>>,\n",
       "  'greeter': <function __main__.greeter>,\n",
       "  'greeter_2': <function __main__.greeter_2>,\n",
       "  'opakowanie': <function __main__.opakowanie>,\n",
       "  'potega': <function __main__.potega>,\n",
       "  'quit': <IPython.core.autocall.ZMQExitAutocall at 0x5a26860>,\n",
       "  's': 2,\n",
       "  'slista': [1, 2, 3, 4, 1],\n",
       "  'suma': <function __main__.suma>,\n",
       "  'suma_sekwencji': <function __main__.suma_sekwencji>,\n",
       "  'w': 9,\n",
       "  'z': None,\n",
       "  'zb1': {1, 3, 23},\n",
       "  'zb2': {2, 4}})"
      ]
     },
     "execution_count": 89,
     "metadata": {},
     "output_type": "execute_result"
    }
   ],
   "source": [
    "globals(), locals()"
   ]
  },
  {
   "cell_type": "code",
   "execution_count": 112,
   "metadata": {
    "collapsed": true
   },
   "outputs": [],
   "source": [
    "GLOB = 10\n",
    "def zakres(x):\n",
    "    y = 1\n",
    "    global GLOB #generalnie zmienne globalne to zly pomysl\n",
    "    print(GLOB)\n",
    "    GLOB = 1\n",
    "    x = 2 #x przeslania ,,wyzszy'' x\n",
    "    return x"
   ]
  },
  {
   "cell_type": "code",
   "execution_count": 113,
   "metadata": {},
   "outputs": [
    {
     "name": "stdout",
     "output_type": "stream",
     "text": [
      "glob przed: 10\n",
      "10\n",
      "2\n",
      "1\n",
      "glob po: 1\n"
     ]
    }
   ],
   "source": [
    "GLOB = 10\n",
    "print(\"glob przed:\",GLOB)\n",
    "print(zakres(x))\n",
    "print(x)\n",
    "print(\"glob po:\",GLOB)"
   ]
  },
  {
   "cell_type": "code",
   "execution_count": 109,
   "metadata": {},
   "outputs": [
    {
     "ename": "NameError",
     "evalue": "name 'y' is not defined",
     "output_type": "error",
     "traceback": [
      "\u001b[1;31m---------------------------------------------------------------------------\u001b[0m",
      "\u001b[1;31mNameError\u001b[0m                                 Traceback (most recent call last)",
      "\u001b[1;32m<ipython-input-109-fc92677288f8>\u001b[0m in \u001b[0;36m<module>\u001b[1;34m()\u001b[0m\n\u001b[1;32m----> 1\u001b[1;33m \u001b[0my\u001b[0m  \u001b[1;31m# nie jest dostepny\u001b[0m\u001b[1;33m\u001b[0m\u001b[0m\n\u001b[0m",
      "\u001b[1;31mNameError\u001b[0m: name 'y' is not defined"
     ]
    }
   ],
   "source": [
    "y  # nie jest dostepny"
   ]
  },
  {
   "cell_type": "code",
   "execution_count": 120,
   "metadata": {
    "collapsed": true
   },
   "outputs": [],
   "source": [
    "def zakres2(x):\n",
    "    y = 1\n",
    "    print(\"lokalne zmienne\",locals())"
   ]
  },
  {
   "cell_type": "code",
   "execution_count": 121,
   "metadata": {},
   "outputs": [
    {
     "name": "stdout",
     "output_type": "stream",
     "text": [
      "lokalne zmienne {'y': 1, 'x': 1}\n"
     ]
    }
   ],
   "source": [
    "zakres2(1)"
   ]
  },
  {
   "cell_type": "code",
   "execution_count": null,
   "metadata": {
    "collapsed": true
   },
   "outputs": [],
   "source": []
  },
  {
   "cell_type": "code",
   "execution_count": null,
   "metadata": {
    "collapsed": true
   },
   "outputs": [],
   "source": []
  }
 ],
 "metadata": {
  "kernelspec": {
   "display_name": "Python 3",
   "language": "python",
   "name": "python3"
  },
  "language_info": {
   "codemirror_mode": {
    "name": "ipython",
    "version": 3
   },
   "file_extension": ".py",
   "mimetype": "text/x-python",
   "name": "python",
   "nbconvert_exporter": "python",
   "pygments_lexer": "ipython3",
   "version": "3.6.2"
  }
 },
 "nbformat": 4,
 "nbformat_minor": 2
}
